{
 "cells": [
  {
   "cell_type": "code",
   "execution_count": 2,
   "metadata": {},
   "outputs": [],
   "source": [
    "import numpy as np \n",
    "\n",
    "class LinearRegression():\n",
    "\n",
    "\tdef __init__(self):\n",
    "\n",
    "\t\tself.parameters = list()\n",
    "\n",
    "\tdef hypothesis(self, parameters, X_train):\n",
    "\n",
    "\t\treturn np.dot(X_train, parameters)\n",
    "\n",
    "\tdef cost(self, parameters, X_train, y_train):\n",
    "\t\t\"\"\"\n",
    "\t\tMain Square Error to calculate the error of our model\n",
    "\t\t\"\"\"\n",
    "\t\tn_examples = len(X_train)  # The number of training examples \n",
    "\t\tpredictions = self.hypothesis(parameters, X_train)\n",
    "\t\tmse = np.subtract(predictions, y) ** 2 \n",
    "\n",
    "\t\treturn ((1 / (2 * n_examples)) * np.sum(mse))\n",
    "\n",
    "\tdef gradient_descent(self, X_train, y_train):\n",
    "\n",
    "\t\t# Initialize some useful variables\n",
    "\t\tlearning_rate = 0.01\n",
    "\t\tn_examples = len(X_train)\n",
    "\t\tparameters = np.array([[0],\n",
    "\t\t\t\t\t\t\t   [0], \n",
    "\t\t\t\t\t\t\t   [0]\n",
    "                                ])  #3 parameters because we have 2 features plus 1 \n",
    "\n",
    "\t\t#reshaping the training set so i can add a column of 1\n",
    "\t\tX_train = np.c_[np.ones(len(X_train)), X_train[:, [0, 1]]]\n",
    "\t\ty_train = y_train.reshape(-1, 1)\n",
    "\n",
    "\t\tfor i in range(2000):\n",
    "\n",
    "\t\t\tpredictions = self.hypothesis(parameters, X_train)\n",
    "\t\t\terrors = np.subtract(predictions, y_train)\n",
    "\t\t\tparameters = parameters - (learning_rate / n_examples) * np.dot(X_train.transpose(), errors)\n",
    "\t\t\t\n",
    "\t\treturn parameters\n",
    "\n",
    "\tdef fit(self, X_train, y_train):\n",
    "\n",
    "\t\tself.parameters = self.gradient_descent(X_train, y_train)\n",
    "\n",
    "\tdef predict(self, X):\n",
    "\n",
    "\t\t#Add a column of 1\n",
    "\n",
    "\t\ty = self.hypothesis(self.parameters, X)\n",
    "\t\treturn y\n"
   ]
  },
  {
   "cell_type": "markdown",
   "metadata": {},
   "source": [
    "# Example "
   ]
  },
  {
   "cell_type": "code",
   "execution_count": 3,
   "metadata": {},
   "outputs": [
    {
     "name": "stdout",
     "output_type": "stream",
     "text": [
      "[[-0.04843162]]\n"
     ]
    }
   ],
   "source": [
    "def scale_feature(X_train, y_train, X):\n",
    "\t\"\"\"\n",
    "\tour new input will be a list of two items because the training set contains two features which are:\n",
    "\t- Area of the house \n",
    "\t- Number of rooms of the house \n",
    "\tThe first element of the list X shoud be house's area, second should be the number of rooms  \n",
    "\t\"\"\"\n",
    "\n",
    "\tX[0] = (X[0] - np.mean(X_train[:, 0])) / ( np.amax(X_train[:, 0]) - np.amin(X_train[:, 0]))\n",
    "\tX[1] = (X[1] - np.mean(X_train[:, 1])) / ( np.amax(X_train[:, 1]) - np.amin(X_train[:, 1]))\n",
    "\n",
    "\tscaled_X = np.array([X])\n",
    "\tscaled_X = np.c_[np.ones(len(scaled_X)), scaled_X[:, [0, 1]]]\n",
    "\treturn scaled_X\n",
    "\n",
    "training_set = np.loadtxt('ex1data2.txt', delimiter=',')\n",
    "#Scaling our dataset\n",
    "X_train, y_train = training_set[:, [0, 1]], training_set[:, 2]\n",
    "\n",
    "X = [1600, 3]\n",
    "X =scale_feature(X_train, y_train, X)\n",
    "\n",
    "#Scale the X_train\n",
    "for i in range(len(X_train)):\n",
    "\tfor j in range(2):\n",
    "\n",
    "\t\tX_train[i, j] = (X_train[i, j] - np.mean(X_train[:, j])) / (np.amax(X_train[:, j]) - np.amin(X_train[:, j]))\n",
    "\n",
    "#Scale the y_train \n",
    "for i in range(len(y_train)):\n",
    "\ty_train[i] = (y_train[i] - np.mean(y_train)) / ( np.amax(y_train) - np.amin(y_train))\n",
    "\n",
    "\n",
    "# A function to scale a new input X in order to use it to predict the output Y \n",
    "\n",
    "\n",
    "\n",
    "model = LinearRegression()\n",
    "\n",
    "\n",
    "model.fit(X_train, y_train)\n",
    "\n",
    "print(model.predict(X))\n"
   ]
  },
  {
   "cell_type": "code",
   "execution_count": null,
   "metadata": {},
   "outputs": [],
   "source": []
  }
 ],
 "metadata": {
  "kernelspec": {
   "display_name": "Python 3",
   "language": "python",
   "name": "python3"
  },
  "language_info": {
   "codemirror_mode": {
    "name": "ipython",
    "version": 3
   },
   "file_extension": ".py",
   "mimetype": "text/x-python",
   "name": "python",
   "nbconvert_exporter": "python",
   "pygments_lexer": "ipython3",
   "version": "3.8.2"
  }
 },
 "nbformat": 4,
 "nbformat_minor": 4
}
